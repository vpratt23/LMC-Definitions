{
 "cells": [
  {
   "cell_type": "markdown",
   "metadata": {},
   "source": [
    "### Imports/Setting Up Data"
   ]
  },
  {
   "cell_type": "code",
   "execution_count": 1,
   "metadata": {},
   "outputs": [],
   "source": [
    "import Analysis_Functions_Environment \n",
    "from Basic_Distance_Functions import get_dists, dist_galaxies"
   ]
  },
  {
   "cell_type": "code",
   "execution_count": 12,
   "metadata": {},
   "outputs": [],
   "source": [
    "from Analysis_Functions_Environment import cutting_dist, number_galaxies, number_galaxies_2_param, converting_to_arr, shorter_dist_lum_cut_range, jack_knifing"
   ]
  },
  {
   "cell_type": "code",
   "execution_count": 2,
   "metadata": {},
   "outputs": [],
   "source": [
    "from astropy.coordinates import SkyCoord\n",
    "import astropy.units as u"
   ]
  },
  {
   "cell_type": "code",
   "execution_count": 3,
   "metadata": {},
   "outputs": [
    {
     "name": "stdout",
     "output_type": "stream",
     "text": [
      "SAGA `shared_dir` set to /Users/Veronica/Documents/GitHub/examples\n",
      "SAGA `local_dir`  set to /Users/Veronica/Documents/GitHub/examples\n",
      "SAGA `shared_dir` set to /Users/Veronica/Documents/GitHub/examples\n",
      "SAGA `local_dir`  set to /Users/Veronica/Documents/GitHub/examples\n"
     ]
    }
   ],
   "source": [
    "import initializing_saga\n",
    "from initializing_saga import np, plt, pd\n",
    "from initializing_saga import completed_hosts, completed_hosts_sorted, sats_completed_hosts_sorted\n",
    "from LMC_MG import hosts_with_LMCs, magnitude_gap_hs, magnitude_gap_sat"
   ]
  },
  {
   "cell_type": "code",
   "execution_count": 4,
   "metadata": {},
   "outputs": [],
   "source": [
    "environmental_master_list = pd.read_csv(r'/Users/Veronica/Downloads/Summer_2020_research/master_list_v2.csv')\n",
    "#this will need to be changed to the path on your device for master_list_v2.csv!"
   ]
  },
  {
   "cell_type": "code",
   "execution_count": 5,
   "metadata": {},
   "outputs": [],
   "source": [
    "from numpy import random"
   ]
  },
  {
   "cell_type": "code",
   "execution_count": 6,
   "metadata": {},
   "outputs": [],
   "source": [
    "hosts_LMC_array_lum = []\n",
    "hosts_no_LMC_array_lum = []\n",
    "for key in hosts_with_LMCs.keys():\n",
    "    x = list(hosts_with_LMCs.keys()).index(key)\n",
    "    if hosts_with_LMCs[key] == True:\n",
    "        hosts_LMC_array_lum.append([completed_hosts['K_ABS'][x]])\n",
    "    else: \n",
    "        hosts_no_LMC_array_lum.append([completed_hosts['K_ABS'][x]])"
   ]
  },
  {
   "cell_type": "code",
   "execution_count": 7,
   "metadata": {},
   "outputs": [],
   "source": [
    "hosts_LMC_array_sat_num = []\n",
    "hosts_no_LMC_array_sat_num = []\n",
    "for key in hosts_with_LMCs.keys():\n",
    "    x = list(hosts_with_LMCs.keys()).index(key)\n",
    "    if hosts_with_LMCs[key] == True:\n",
    "        hosts_LMC_array_sat_num.append([completed_hosts['sats_Mr_limit'][x]])\n",
    "    else: \n",
    "        hosts_no_LMC_array_sat_num.append([completed_hosts['sats_Mr_limit'][x]])"
   ]
  },
  {
   "cell_type": "code",
   "execution_count": 8,
   "metadata": {},
   "outputs": [],
   "source": [
    "from Paper_2_Morphology import df_morph_prop_condensed"
   ]
  },
  {
   "cell_type": "code",
   "execution_count": 9,
   "metadata": {},
   "outputs": [],
   "source": [
    "distance_galaxies = dist_galaxies(completed_hosts,'HOSTID', environmental_master_list)"
   ]
  },
  {
   "cell_type": "code",
   "execution_count": 10,
   "metadata": {},
   "outputs": [
    {
     "data": {
      "text/plain": [
       "array([['pgc43', 43, nan, ..., 0.0, 0, 2],\n",
       "       ['pgc171', 171, nan, ..., 0.0, 0, 0],\n",
       "       ['nsa126092', 218, nan, ..., 1.0, 0, 2],\n",
       "       ...,\n",
       "       ['pgc5061291', 5061291, nan, ..., 0.0, 0, 0],\n",
       "       ['pgc5061296', 5061296, nan, ..., 0.0, 0, 0],\n",
       "       ['pgc5094329', 5094329, nan, ..., 0.0, 0, 0]], dtype=object)"
      ]
     },
     "execution_count": 10,
     "metadata": {},
     "output_type": "execute_result"
    }
   ],
   "source": [
    "pd.set_option('max_columns', None)\n",
    "environmental_master_list.to_numpy()"
   ]
  },
  {
   "cell_type": "markdown",
   "metadata": {},
   "source": [
    "### Generating Analyzable Data with my Imports"
   ]
  },
  {
   "cell_type": "code",
   "execution_count": 14,
   "metadata": {},
   "outputs": [],
   "source": [
    "distances = [5, 10, 20]\n",
    "shorter_dists = {}\n",
    "for i in range(len(distances)):\n",
    "    shorter_dists[distances[i]] = cutting_dist(distances[i], distance_galaxies)"
   ]
  },
  {
   "cell_type": "code",
   "execution_count": 16,
   "metadata": {},
   "outputs": [],
   "source": [
    "num_galaxies = {}\n",
    "for key in shorter_dists.keys():\n",
    "    num_galaxies[key] = number_galaxies(shorter_dists[key])"
   ]
  },
  {
   "cell_type": "code",
   "execution_count": 17,
   "metadata": {},
   "outputs": [],
   "source": [
    "num_galaxies_LMC = {}\n",
    "num_galaxies_no_LMC = {}\n",
    "for key in shorter_dists.keys():\n",
    "    num_galaxies_LMC[key], num_galaxies_no_LMC[key] = number_galaxies_2_param(shorter_dists[key], hosts_with_LMCs, True, False)"
   ]
  },
  {
   "cell_type": "code",
   "execution_count": 39,
   "metadata": {},
   "outputs": [],
   "source": [
    "arr1 = []\n",
    "num_galaxies_LMC_arrs = {}\n",
    "for key in num_galaxies_LMC.keys():\n",
    "    num_galaxies_LMC_arrs[key] = converting_to_arr(num_galaxies_LMC[key], arr1)\n",
    "num_galaxies_no_LMC_arrs = {}\n",
    "for key in num_galaxies_no_LMC.keys():\n",
    "    num_galaxies_no_LMC_arrs[key] = converting_to_arr(num_galaxies_no_LMC[key], arr1)"
   ]
  },
  {
   "cell_type": "code",
   "execution_count": null,
   "metadata": {},
   "outputs": [],
   "source": [
    "num_galaxies_SAB = {}\n",
    "num_galaxies_ES0 = {}\n",
    "for key in shorter_dists.keys():\n",
    "    num_galaxies_SAB[key], num_galaxies_ES0[key] = number_galaxies_2_param(shorter_dists[key], df_morph_prop_condensed, 'SAB', 'E/S0')"
   ]
  },
  {
   "cell_type": "code",
   "execution_count": 19,
   "metadata": {},
   "outputs": [],
   "source": [
    "lums_dists = {'-23.5, 5, 2': [-23.5, 5, 2], '-23.5, 10, 2': [-23.5, 10, 2], '-23.5, 20, 2': [-23.5, 20, 2], '-22, 5, 2': [-22, 5, 2], '-22, 10, 2': [-22, 10, 2], '-22, 20, 2': [-22, 20, 2]}"
   ]
  },
  {
   "cell_type": "code",
   "execution_count": 22,
   "metadata": {},
   "outputs": [],
   "source": [
    "shorter_dists_lums = {}\n",
    "for key in lums_dists.keys():\n",
    "    shorter_dists_lums[key] = shorter_dist_lum_cut_range(distance_galaxies, lums_dists[key][0], lums_dists[key][1], lums_dists[key][2])"
   ]
  },
  {
   "cell_type": "code",
   "execution_count": 24,
   "metadata": {},
   "outputs": [],
   "source": [
    "num_galaxies_lum_cuts = {}\n",
    "for key in shorter_dists_lums.keys():\n",
    "    num_galaxies_lum_cuts[key] = number_galaxies(shorter_dists_lums[key])"
   ]
  },
  {
   "cell_type": "code",
   "execution_count": 25,
   "metadata": {},
   "outputs": [],
   "source": [
    "num_galaxies_LMC_cuts = {}\n",
    "num_galaxies_no_LMC_cuts = {}\n",
    "for key in shorter_dists_lums.keys():\n",
    "    num_galaxies_LMC_cuts[key], num_galaxies_no_LMC_cuts[key] = number_galaxies_2_param(shorter_dists_lums[key], hosts_with_LMCs, True, False)"
   ]
  },
  {
   "cell_type": "code",
   "execution_count": 26,
   "metadata": {},
   "outputs": [],
   "source": [
    "arr1 = []\n",
    "num_galaxies_LMC_cuts_arrs = {}\n",
    "for key in num_galaxies_LMC_cuts.keys():\n",
    "    num_galaxies_LMC_cuts_arrs[key] = converting_to_arr(num_galaxies_LMC_cuts[key], arr1)\n",
    "    \n",
    "num_galaxies_no_LMC_cuts_arrs = {}\n",
    "for key in num_galaxies_no_LMC_cuts.keys():\n",
    "    num_galaxies_no_LMC_cuts_arrs[key] = converting_to_arr(num_galaxies_no_LMC_cuts[key], arr1)"
   ]
  },
  {
   "cell_type": "code",
   "execution_count": null,
   "metadata": {},
   "outputs": [],
   "source": [
    "for key in shorter_dists_lums.keys():\n",
    "    num_galaxies_SAB_cuts[key], num_galaxies_ESO_cuts[key] =  number_galaxies_2_param(shorter_dists_lums[key], df_morph_prop_condensed, 'SAB', 'E/S0')"
   ]
  },
  {
   "cell_type": "markdown",
   "metadata": {},
   "source": [
    "### Scatter Plots and Correlation Calculations"
   ]
  },
  {
   "cell_type": "code",
   "execution_count": 28,
   "metadata": {},
   "outputs": [
    {
     "data": {
      "text/plain": [
       "Text(0.5, 0, 'Number of Galaxies within 20 Mpc')"
      ]
     },
     "execution_count": 28,
     "metadata": {},
     "output_type": "execute_result"
    },
    {
     "data": {
      "image/png": "[encoded data removed]",
      "text/plain": [
       "<Figure size 1152x360 with 3 Axes>"
      ]
     },
     "metadata": {
      "needs_background": "light"
     },
     "output_type": "display_data"
    }
   ],
   "source": [
    "fig, (ax0, ax1, ax2) = plt.subplots(nrows=1, ncols=3, sharex = False, sharey = True, figsize=(16, 5))\n",
    "ax0.scatter(num_galaxies_LMC[5].values(),hosts_LMC_array_sat_num, label = 'LMC')\n",
    "#print(\"Spearman correlation for LMCs \" + str(scipy.stats.spearmanr(num_galaxies_5_LMC_arr, hosts_LMC_array_sat_num)))\n",
    "#print(\"Spearman correlation for no LMCs \" + str(scipy.stats.spearmanr(num_galaxies_5_no_LMC_arr, hosts_no_LMC_array_sat_num)))\n",
    "ax0.scatter(num_galaxies_no_LMC[5].values(),hosts_no_LMC_array_sat_num, label = 'No LMC')\n",
    "#plt.legend(loc = 'upper right')\n",
    "ax0.set_xlabel('Number of Galaxies within 5 Mpc')\n",
    "ax0.set_ylabel('Number of Satellites per Host')\n",
    "plt.title(\"Environmental Density vs. Satellite Number\")\n",
    "\n",
    "ax1.scatter(num_galaxies_LMC[10].values(),hosts_LMC_array_sat_num, label = 'LMC')\n",
    "#print(\"Spearman correlation for LMCs \" + str(scipy.stats.spearmanr(num_galaxies_10_LMC_arr, hosts_LMC_array_sat_num)))\n",
    "#print(\"Spearman correlation for no LMCs \" + str(scipy.stats.spearmanr(num_galaxies_10_no_LMC_arr, hosts_no_LMC_array_sat_num)))\n",
    "ax1.scatter(num_galaxies_no_LMC[10].values(),hosts_no_LMC_array_sat_num, label = 'No LMC')\n",
    "#plt.legend(loc = 'upper right')\n",
    "ax1.set_xlabel('Number of Galaxies within 10 Mpc')\n",
    "#axes[1].ylabel('Number of Satellites per Host')\n",
    "#plt.title(\"Environmental Desnity vs. Satellite Number\")\n",
    "\n",
    "ax2.scatter(num_galaxies_LMC[20].values(),hosts_LMC_array_sat_num, label = 'LMC')\n",
    "#print(\"Spearman correlation for LMCs \" + str(scipy.stats.spearmanr(num_galaxies_20_LMC_arr, hosts_LMC_array_sat_num)))\n",
    "#print(\"Spearman correlation for no LMCs \" + str(scipy.stats.spearmanr(num_galaxies_20_no_LMC_arr, hosts_no_LMC_array_sat_num)))\n",
    "\n",
    "ax2.scatter(num_galaxies_no_LMC[20].values(),hosts_no_LMC_array_sat_num, label = 'No LMC')\n",
    "plt.legend(loc = 'upper right')\n",
    "ax2.set_xlabel('Number of Galaxies within 20 Mpc')\n",
    "#axes[2].ylabel('Number of Satellites per Host')\n",
    "#plt.title(\"Environmental Density vs. Satellite Number\")"
   ]
  },
  {
   "cell_type": "code",
   "execution_count": 31,
   "metadata": {},
   "outputs": [
    {
     "data": {
      "text/plain": [
       "Text(0.5, 0, 'Number of Galaxies Brighter than -22 within 20 Mpc')"
      ]
     },
     "execution_count": 31,
     "metadata": {},
     "output_type": "execute_result"
    },
    {
     "data": {
      "image/png": "[encoded data removed]",
      "text/plain": [
       "<Figure size 1152x360 with 3 Axes>"
      ]
     },
     "metadata": {
      "needs_background": "light"
     },
     "output_type": "display_data"
    }
   ],
   "source": [
    "fig, (ax0, ax1, ax2) = plt.subplots(nrows=1, ncols=3, sharex = False, sharey = True, figsize=(16, 5))\n",
    "ax0.scatter(num_galaxies_LMC_cuts['-22, 5, 2'].values(),hosts_LMC_array_sat_num, label = 'LMC')\n",
    "ax0.scatter(num_galaxies_no_LMC_cuts['-22, 5, 2'].values(),hosts_no_LMC_array_sat_num, label = 'No LMC')\n",
    "ax0.set_xlabel('Number of Galaxies Brighter than -22 within 5 Mpc')\n",
    "ax0.set_ylabel('Number of Satellites per Host')\n",
    "plt.title(\"Environmental Density vs. Satellite Number\")\n",
    "\n",
    "ax1.scatter(num_galaxies_LMC_cuts['-22, 10, 2'].values(),hosts_LMC_array_sat_num, label = 'LMC')\n",
    "ax1.scatter(num_galaxies_no_LMC_cuts['-22, 10, 2'].values(),hosts_no_LMC_array_sat_num, label = 'No LMC')\n",
    "ax1.set_xlabel('Number of Galaxies Brighter than -22 within 10 Mpc')\n",
    "\n",
    "ax2.scatter(num_galaxies_LMC_cuts['-22, 20, 2'].values(),hosts_LMC_array_sat_num, label = 'LMC')\n",
    "ax2.scatter(num_galaxies_no_LMC_cuts['-22, 20, 2'].values(),hosts_no_LMC_array_sat_num, label = 'No LMC')\n",
    "plt.legend(loc = 'upper right')\n",
    "ax2.set_xlabel('Number of Galaxies Brighter than -22 within 20 Mpc')"
   ]
  },
  {
   "cell_type": "markdown",
   "metadata": {},
   "source": [
    "### Bar and Whisker"
   ]
  },
  {
   "cell_type": "code",
   "execution_count": 44,
   "metadata": {},
   "outputs": [
    {
     "data": {
      "text/plain": [
       "Text(0.5, 1.0, 'Environmental Density at -23.5')"
      ]
     },
     "execution_count": 44,
     "metadata": {},
     "output_type": "execute_result"
    },
    {
     "data": {
      "image/png": "[encoded data removed]",
      "text/plain": [
       "<Figure size 1152x360 with 3 Axes>"
      ]
     },
     "metadata": {
      "needs_background": "light"
     },
     "output_type": "display_data"
    }
   ],
   "source": [
    "#a plot comparing host luminosity to whether there is an LMC!!\n",
    "num_gal_5 = [num_galaxies_LMC_arrs[5], num_galaxies_no_LMC_arrs[5]]\n",
    "num_gal_5_22 = [num_galaxies_LMC_cuts_arrs['-22, 5, 2'], num_galaxies_no_LMC_cuts_arrs['-22, 5, 2']]\n",
    "num_gal_5_235 = [num_galaxies_LMC_cuts_arrs['-23.5, 5, 2'], num_galaxies_no_LMC_cuts_arrs['-23.5, 5, 2']]\n",
    "fig, (ax0, ax1, ax2) = plt.subplots(nrows=1, ncols=3, sharex = False, sharey = False, figsize=(16, 5))\n",
    "\n",
    "ax0.boxplot(num_gal_5)\n",
    "ax0.set_xticklabels(['With LMC', 'Without LMC'])\n",
    "ax0.set_ylabel('Number of Galaxies between 2 and 5 Mpc')\n",
    "ax0.set_title('Environmental Density at No Cut')\n",
    "\n",
    "ax1.boxplot(num_gal_5_22)\n",
    "ax1.set_xticklabels(['With LMC', 'Without LMC'])\n",
    "ax1.set_title('Environmental Density at -22')\n",
    "\n",
    "ax2.boxplot(num_gal_5_235)\n",
    "ax2.set_xticklabels(['With LMC', 'Without LMC'])\n",
    "ax2.set_title('Environmental Density at -23.5')"
   ]
  }
 ],
 "metadata": {
  "kernelspec": {
   "display_name": "Python 3",
   "language": "python",
   "name": "python3"
  },
  "language_info": {
   "codemirror_mode": {
    "name": "ipython",
    "version": 3
   },
   "file_extension": ".py",
   "mimetype": "text/x-python",
   "name": "python",
   "nbconvert_exporter": "python",
   "pygments_lexer": "ipython3",
   "version": "3.7.3"
  }
 },
 "nbformat": 4,
 "nbformat_minor": 4
}
